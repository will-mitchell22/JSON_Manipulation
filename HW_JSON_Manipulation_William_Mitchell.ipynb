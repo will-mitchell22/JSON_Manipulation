{
  "nbformat": 4,
  "nbformat_minor": 0,
  "metadata": {
    "colab": {
      "provenance": []
    },
    "kernelspec": {
      "name": "python3",
      "display_name": "Python 3"
    },
    "language_info": {
      "name": "python"
    }
  },
  "cells": [
    {
      "cell_type": "code",
      "execution_count": 40,
      "metadata": {
        "colab": {
          "base_uri": "https://localhost:8080/"
        },
        "id": "YMWDkrhmllIw",
        "outputId": "86f7528d-d9f1-4c11-e1b2-55dfe1a6d223"
      },
      "outputs": [
        {
          "output_type": "stream",
          "name": "stdout",
          "text": [
            "Requirement already satisfied: PyMySQL in /usr/local/lib/python3.10/dist-packages (1.1.0)\n",
            "Requirement already satisfied: mysql-connector-python in /usr/local/lib/python3.10/dist-packages (8.3.0)\n",
            "Requirement already satisfied: sqlalchemy in /usr/local/lib/python3.10/dist-packages (2.0.27)\n",
            "Requirement already satisfied: typing-extensions>=4.6.0 in /usr/local/lib/python3.10/dist-packages (from sqlalchemy) (4.9.0)\n",
            "Requirement already satisfied: greenlet!=0.4.17 in /usr/local/lib/python3.10/dist-packages (from sqlalchemy) (3.0.3)\n"
          ]
        }
      ],
      "source": [
        "!pip install PyMySQL\n",
        "!pip install mysql-connector-python\n",
        "!pip install sqlalchemy"
      ]
    },
    {
      "cell_type": "code",
      "source": [
        "import pandas as pd"
      ],
      "metadata": {
        "id": "uOJsI41al4Z7"
      },
      "execution_count": 42,
      "outputs": []
    },
    {
      "cell_type": "code",
      "source": [
        "data_file = \"https://raw.githubusercontent.com/jasonwnc/ds2002s24/main/2.%20Python/coll%20bb_SortByConf.json\"\n",
        "df = pd.read_json(data_file)"
      ],
      "metadata": {
        "id": "p7z-zUCu76FE"
      },
      "execution_count": 43,
      "outputs": []
    },
    {
      "cell_type": "code",
      "source": [
        "print(\"The results for 100 rows are:\")\n",
        "print(df.head(100))"
      ],
      "metadata": {
        "colab": {
          "base_uri": "https://localhost:8080/"
        },
        "id": "lP7ijGzL9Pkj",
        "outputId": "01727233-3ff1-4b62-dc06-882792d01781"
      },
      "execution_count": 44,
      "outputs": [
        {
          "output_type": "stream",
          "name": "stdout",
          "text": [
            "The results for 100 rows are:\n",
            "                                                teams\n",
            "0   {'tid': 159, 'cid': 0, 'did': 0, 'region': 'Bo...\n",
            "1   {'tid': 105, 'cid': 0, 'did': 0, 'region': 'Cl...\n",
            "2   {'tid': 109, 'cid': 0, 'did': 0, 'region': 'Fl...\n",
            "3   {'tid': 18, 'cid': 0, 'did': 0, 'region': 'Lou...\n",
            "4   {'tid': 31, 'cid': 0, 'did': 0, 'region': 'Nor...\n",
            "..                                                ...\n",
            "95  {'tid': 300, 'cid': 5, 'did': 11, 'region': 'J...\n",
            "96  {'tid': 72, 'cid': 6, 'did': 12, 'region': 'Ea...\n",
            "97  {'tid': 139, 'cid': 6, 'did': 12, 'region': 'S...\n",
            "98  {'tid': 239, 'cid': 6, 'did': 12, 'region': 'N...\n",
            "99  {'tid': 266, 'cid': 6, 'did': 12, 'region': 'I...\n",
            "\n",
            "[100 rows x 1 columns]\n"
          ]
        }
      ]
    },
    {
      "cell_type": "code",
      "source": [
        "teams_df = pd.DataFrame(df['teams'].tolist())\n",
        "print(teams_df.columns)"
      ],
      "metadata": {
        "colab": {
          "base_uri": "https://localhost:8080/"
        },
        "id": "P3XgA93f_HW6",
        "outputId": "f1539a59-2dcd-41c1-ec0d-b8f0b83c1b26"
      },
      "execution_count": 45,
      "outputs": [
        {
          "output_type": "stream",
          "name": "stdout",
          "text": [
            "Index(['tid', 'cid', 'did', 'region', 'name', 'abbrev', 'pop', 'city', 'state',\n",
            "       'latitude', 'longitude'],\n",
            "      dtype='object')\n"
          ]
        }
      ]
    },
    {
      "cell_type": "code",
      "source": [
        "print(\"The total number of teams is:\", teams_df.shape[0])"
      ],
      "metadata": {
        "colab": {
          "base_uri": "https://localhost:8080/"
        },
        "id": "UKCZ3JJT_wpZ",
        "outputId": "393002ef-ebf5-49e8-c6f7-a21dccdab29c"
      },
      "execution_count": 46,
      "outputs": [
        {
          "output_type": "stream",
          "name": "stdout",
          "text": [
            "The total number of teams is: 320\n"
          ]
        }
      ]
    },
    {
      "cell_type": "code",
      "source": [
        "teams_in_Virginia = teams_df[teams_df['state'] == 'VA']['name'].nunique()\n",
        "print(\"The number of teams in Virginia is:\", teams_in_Virginia)"
      ],
      "metadata": {
        "colab": {
          "base_uri": "https://localhost:8080/"
        },
        "id": "6yT1fqZ9_9i8",
        "outputId": "8d47b458-5ab7-482c-ce43-dc7270a14a51"
      },
      "execution_count": 47,
      "outputs": [
        {
          "output_type": "stream",
          "name": "stdout",
          "text": [
            "The number of teams in Virginia is: 13\n"
          ]
        }
      ]
    },
    {
      "cell_type": "code",
      "source": [
        "mascot_occurences = teams_df['name'].value_counts()\n",
        "duplicate_mascots = mascot_occurences[mascot_occurences > 1]\n",
        "print(\"Here is a list of Duplicate Mascots:\\n\", duplicate_mascots)"
      ],
      "metadata": {
        "colab": {
          "base_uri": "https://localhost:8080/"
        },
        "id": "t-Y6NsnIAP2k",
        "outputId": "eaa00aed-5dd5-4d18-e51c-f3eea2464741"
      },
      "execution_count": 48,
      "outputs": [
        {
          "output_type": "stream",
          "name": "stdout",
          "text": [
            "Here is a list of Duplicate Mascots:\n",
            " Bulldogs         13\n",
            "Eagles           10\n",
            "Tigers            9\n",
            "Panthers          8\n",
            "Wildcats          8\n",
            "Huskies           5\n",
            "Rams              4\n",
            "Bears             4\n",
            "Aggies            4\n",
            "Golden Eagles     4\n",
            "Spartans          4\n",
            "Cougars           4\n",
            "Owls              4\n",
            "Cardinals         4\n",
            "Hawks             4\n",
            "Bobcats           3\n",
            "Redhawks          3\n",
            "Hornets           3\n",
            "Mountaineers      3\n",
            "Cowboys           3\n",
            "Vikings           3\n",
            "Pirates           3\n",
            "Jaguars           3\n",
            "Terriers          3\n",
            "Broncos           3\n",
            "Trojans           3\n",
            "Crusaders         2\n",
            "Catamounts        2\n",
            "Knights           2\n",
            "Titans            2\n",
            "Mustangs          2\n",
            "Mavericks         2\n",
            "Highlanders       2\n",
            "Bulls             2\n",
            "Lions             2\n",
            "Lumberjacks       2\n",
            "Bisons            2\n",
            "Bruins            2\n",
            "Roadrunners       2\n",
            "Gaels             2\n",
            "Colonials         2\n",
            "Dukes             2\n",
            "Raiders           2\n",
            "Bison             2\n",
            "49ers             2\n",
            "Buccaneers        2\n",
            "Phoenix           2\n",
            "Gamecocks         2\n",
            "Rebels            2\n",
            "Pioneers          2\n",
            "Falcons           2\n",
            "Wolverines        2\n",
            "Name: name, dtype: int64\n"
          ]
        }
      ]
    }
  ]
}